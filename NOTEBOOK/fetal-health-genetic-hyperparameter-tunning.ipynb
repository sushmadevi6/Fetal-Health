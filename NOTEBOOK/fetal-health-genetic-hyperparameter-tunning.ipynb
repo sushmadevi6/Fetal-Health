{
 "cells": [
  {
   "cell_type": "code",
   "execution_count": 1,
   "id": "rough-scope",
   "metadata": {
    "_cell_guid": "b1076dfc-b9ad-4769-8c92-a6c4dae69d19",
    "_kg_hide-input": true,
    "_kg_hide-output": true,
    "_uuid": "8f2839f25d086af736a60e9eeb907d3b93b6e0e5",
    "execution": {
     "iopub.execute_input": "2021-05-01T16:29:36.835815Z",
     "iopub.status.busy": "2021-05-01T16:29:36.833887Z",
     "iopub.status.idle": "2021-05-01T16:29:56.786750Z",
     "shell.execute_reply": "2021-05-01T16:29:56.787344Z"
    },
    "papermill": {
     "duration": 19.980425,
     "end_time": "2021-05-01T16:29:56.787710",
     "exception": false,
     "start_time": "2021-05-01T16:29:36.807285",
     "status": "completed"
    },
    "tags": []
   },
   "outputs": [],
   "source": [
    "import numpy as np\n",
    "import pandas as pd\n",
    "\n",
    "import seaborn as sns\n",
    "import matplotlib.pyplot as plt\n",
    "\n",
    "from sklearn import preprocessing\n",
    "from sklearn.metrics import accuracy_score\n",
    "from sklearn.model_selection import train_test_split\n",
    "\n",
    "from xgboost import XGBClassifier\n",
    "\n",
    "from tpot import TPOTClassifier, TPOTRegressor\n",
    "from tpot.config import classifier_config_dict\n",
    "\n",
    "from deap.gp import Primitive\n",
    "\n",
    "\n",
    "!pip install -qq logger\n",
    "from evolution import NeuroEvolution\n",
    "\n",
    "import tensorflow as tf\n",
    "from tensorflow import keras\n",
    "from tensorflow.keras import layers\n",
    "from tensorflow.keras.layers import Dense\n",
    "import matplotlib.pyplot as plt\n",
    "\n",
    "import warnings\n",
    "warnings.filterwarnings('ignore')"
   ]
  },
  {
   "cell_type": "markdown",
   "id": "numerous-syria",
   "metadata": {
    "papermill": {
     "duration": 0.024007,
     "end_time": "2021-05-01T16:29:56.885529",
     "exception": false,
     "start_time": "2021-05-01T16:29:56.861522",
     "status": "completed"
    },
    "tags": []
   },
   "source": [
    "## IMPORT DATA"
   ]
  },
  {
   "cell_type": "code",
   "execution_count": 2,
   "id": "consistent-palmer",
   "metadata": {
    "execution": {
     "iopub.execute_input": "2021-05-01T16:29:56.948409Z",
     "iopub.status.busy": "2021-05-01T16:29:56.947644Z",
     "iopub.status.idle": "2021-05-01T16:29:57.010103Z",
     "shell.execute_reply": "2021-05-01T16:29:57.010616Z"
    },
    "papermill": {
     "duration": 0.101457,
     "end_time": "2021-05-01T16:29:57.010804",
     "exception": false,
     "start_time": "2021-05-01T16:29:56.909347",
     "status": "completed"
    },
    "tags": []
   },
   "outputs": [
    {
     "data": {
      "text/html": [
       "<div>\n",
       "<style scoped>\n",
       "    .dataframe tbody tr th:only-of-type {\n",
       "        vertical-align: middle;\n",
       "    }\n",
       "\n",
       "    .dataframe tbody tr th {\n",
       "        vertical-align: top;\n",
       "    }\n",
       "\n",
       "    .dataframe thead th {\n",
       "        text-align: right;\n",
       "    }\n",
       "</style>\n",
       "<table border=\"1\" class=\"dataframe\">\n",
       "  <thead>\n",
       "    <tr style=\"text-align: right;\">\n",
       "      <th></th>\n",
       "      <th>baseline value</th>\n",
       "      <th>accelerations</th>\n",
       "      <th>fetal_movement</th>\n",
       "      <th>uterine_contractions</th>\n",
       "      <th>light_decelerations</th>\n",
       "      <th>severe_decelerations</th>\n",
       "      <th>prolongued_decelerations</th>\n",
       "      <th>abnormal_short_term_variability</th>\n",
       "      <th>mean_value_of_short_term_variability</th>\n",
       "      <th>percentage_of_time_with_abnormal_long_term_variability</th>\n",
       "      <th>...</th>\n",
       "      <th>histogram_min</th>\n",
       "      <th>histogram_max</th>\n",
       "      <th>histogram_number_of_peaks</th>\n",
       "      <th>histogram_number_of_zeroes</th>\n",
       "      <th>histogram_mode</th>\n",
       "      <th>histogram_mean</th>\n",
       "      <th>histogram_median</th>\n",
       "      <th>histogram_variance</th>\n",
       "      <th>histogram_tendency</th>\n",
       "      <th>fetal_health</th>\n",
       "    </tr>\n",
       "  </thead>\n",
       "  <tbody>\n",
       "    <tr>\n",
       "      <th>0</th>\n",
       "      <td>120.0</td>\n",
       "      <td>0.000</td>\n",
       "      <td>0.0</td>\n",
       "      <td>0.000</td>\n",
       "      <td>0.000</td>\n",
       "      <td>0.0</td>\n",
       "      <td>0.0</td>\n",
       "      <td>73.0</td>\n",
       "      <td>0.5</td>\n",
       "      <td>43.0</td>\n",
       "      <td>...</td>\n",
       "      <td>62.0</td>\n",
       "      <td>126.0</td>\n",
       "      <td>2.0</td>\n",
       "      <td>0.0</td>\n",
       "      <td>120.0</td>\n",
       "      <td>137.0</td>\n",
       "      <td>121.0</td>\n",
       "      <td>73.0</td>\n",
       "      <td>1.0</td>\n",
       "      <td>2.0</td>\n",
       "    </tr>\n",
       "    <tr>\n",
       "      <th>1</th>\n",
       "      <td>132.0</td>\n",
       "      <td>0.006</td>\n",
       "      <td>0.0</td>\n",
       "      <td>0.006</td>\n",
       "      <td>0.003</td>\n",
       "      <td>0.0</td>\n",
       "      <td>0.0</td>\n",
       "      <td>17.0</td>\n",
       "      <td>2.1</td>\n",
       "      <td>0.0</td>\n",
       "      <td>...</td>\n",
       "      <td>68.0</td>\n",
       "      <td>198.0</td>\n",
       "      <td>6.0</td>\n",
       "      <td>1.0</td>\n",
       "      <td>141.0</td>\n",
       "      <td>136.0</td>\n",
       "      <td>140.0</td>\n",
       "      <td>12.0</td>\n",
       "      <td>0.0</td>\n",
       "      <td>1.0</td>\n",
       "    </tr>\n",
       "    <tr>\n",
       "      <th>2</th>\n",
       "      <td>133.0</td>\n",
       "      <td>0.003</td>\n",
       "      <td>0.0</td>\n",
       "      <td>0.008</td>\n",
       "      <td>0.003</td>\n",
       "      <td>0.0</td>\n",
       "      <td>0.0</td>\n",
       "      <td>16.0</td>\n",
       "      <td>2.1</td>\n",
       "      <td>0.0</td>\n",
       "      <td>...</td>\n",
       "      <td>68.0</td>\n",
       "      <td>198.0</td>\n",
       "      <td>5.0</td>\n",
       "      <td>1.0</td>\n",
       "      <td>141.0</td>\n",
       "      <td>135.0</td>\n",
       "      <td>138.0</td>\n",
       "      <td>13.0</td>\n",
       "      <td>0.0</td>\n",
       "      <td>1.0</td>\n",
       "    </tr>\n",
       "    <tr>\n",
       "      <th>3</th>\n",
       "      <td>134.0</td>\n",
       "      <td>0.003</td>\n",
       "      <td>0.0</td>\n",
       "      <td>0.008</td>\n",
       "      <td>0.003</td>\n",
       "      <td>0.0</td>\n",
       "      <td>0.0</td>\n",
       "      <td>16.0</td>\n",
       "      <td>2.4</td>\n",
       "      <td>0.0</td>\n",
       "      <td>...</td>\n",
       "      <td>53.0</td>\n",
       "      <td>170.0</td>\n",
       "      <td>11.0</td>\n",
       "      <td>0.0</td>\n",
       "      <td>137.0</td>\n",
       "      <td>134.0</td>\n",
       "      <td>137.0</td>\n",
       "      <td>13.0</td>\n",
       "      <td>1.0</td>\n",
       "      <td>1.0</td>\n",
       "    </tr>\n",
       "    <tr>\n",
       "      <th>4</th>\n",
       "      <td>132.0</td>\n",
       "      <td>0.007</td>\n",
       "      <td>0.0</td>\n",
       "      <td>0.008</td>\n",
       "      <td>0.000</td>\n",
       "      <td>0.0</td>\n",
       "      <td>0.0</td>\n",
       "      <td>16.0</td>\n",
       "      <td>2.4</td>\n",
       "      <td>0.0</td>\n",
       "      <td>...</td>\n",
       "      <td>53.0</td>\n",
       "      <td>170.0</td>\n",
       "      <td>9.0</td>\n",
       "      <td>0.0</td>\n",
       "      <td>137.0</td>\n",
       "      <td>136.0</td>\n",
       "      <td>138.0</td>\n",
       "      <td>11.0</td>\n",
       "      <td>1.0</td>\n",
       "      <td>1.0</td>\n",
       "    </tr>\n",
       "  </tbody>\n",
       "</table>\n",
       "<p>5 rows × 22 columns</p>\n",
       "</div>"
      ],
      "text/plain": [
       "   baseline value  accelerations  fetal_movement  uterine_contractions  \\\n",
       "0           120.0          0.000             0.0                 0.000   \n",
       "1           132.0          0.006             0.0                 0.006   \n",
       "2           133.0          0.003             0.0                 0.008   \n",
       "3           134.0          0.003             0.0                 0.008   \n",
       "4           132.0          0.007             0.0                 0.008   \n",
       "\n",
       "   light_decelerations  severe_decelerations  prolongued_decelerations  \\\n",
       "0                0.000                   0.0                       0.0   \n",
       "1                0.003                   0.0                       0.0   \n",
       "2                0.003                   0.0                       0.0   \n",
       "3                0.003                   0.0                       0.0   \n",
       "4                0.000                   0.0                       0.0   \n",
       "\n",
       "   abnormal_short_term_variability  mean_value_of_short_term_variability  \\\n",
       "0                             73.0                                   0.5   \n",
       "1                             17.0                                   2.1   \n",
       "2                             16.0                                   2.1   \n",
       "3                             16.0                                   2.4   \n",
       "4                             16.0                                   2.4   \n",
       "\n",
       "   percentage_of_time_with_abnormal_long_term_variability  ...  histogram_min  \\\n",
       "0                                               43.0       ...           62.0   \n",
       "1                                                0.0       ...           68.0   \n",
       "2                                                0.0       ...           68.0   \n",
       "3                                                0.0       ...           53.0   \n",
       "4                                                0.0       ...           53.0   \n",
       "\n",
       "   histogram_max  histogram_number_of_peaks  histogram_number_of_zeroes  \\\n",
       "0          126.0                        2.0                         0.0   \n",
       "1          198.0                        6.0                         1.0   \n",
       "2          198.0                        5.0                         1.0   \n",
       "3          170.0                       11.0                         0.0   \n",
       "4          170.0                        9.0                         0.0   \n",
       "\n",
       "   histogram_mode  histogram_mean  histogram_median  histogram_variance  \\\n",
       "0           120.0           137.0             121.0                73.0   \n",
       "1           141.0           136.0             140.0                12.0   \n",
       "2           141.0           135.0             138.0                13.0   \n",
       "3           137.0           134.0             137.0                13.0   \n",
       "4           137.0           136.0             138.0                11.0   \n",
       "\n",
       "   histogram_tendency  fetal_health  \n",
       "0                 1.0           2.0  \n",
       "1                 0.0           1.0  \n",
       "2                 0.0           1.0  \n",
       "3                 1.0           1.0  \n",
       "4                 1.0           1.0  \n",
       "\n",
       "[5 rows x 22 columns]"
      ]
     },
     "execution_count": 2,
     "metadata": {},
     "output_type": "execute_result"
    }
   ],
   "source": [
    "path = 'C:\\Users\\DELL\\Documents\\GitHub\\Fetal-Health\\NOTEBOOK.csv'\n",
    "df = pd.read_csv(path)\n",
    "df.head()"
   ]
  },
  {
   "cell_type": "markdown",
   "id": "functioning-paragraph",
   "metadata": {
    "papermill": {
     "duration": 0.024015,
     "end_time": "2021-05-01T16:29:57.060086",
     "exception": false,
     "start_time": "2021-05-01T16:29:57.036071",
     "status": "completed"
    },
    "tags": []
   },
   "source": [
    "## Describe data"
   ]
  },
  {
   "cell_type": "code",
   "execution_count": 3,
   "id": "severe-glossary",
   "metadata": {
    "execution": {
     "iopub.execute_input": "2021-05-01T16:29:57.122107Z",
     "iopub.status.busy": "2021-05-01T16:29:57.121260Z",
     "iopub.status.idle": "2021-05-01T16:29:57.213762Z",
     "shell.execute_reply": "2021-05-01T16:29:57.214335Z"
    },
    "papermill": {
     "duration": 0.12915,
     "end_time": "2021-05-01T16:29:57.214488",
     "exception": false,
     "start_time": "2021-05-01T16:29:57.085338",
     "status": "completed"
    },
    "tags": []
   },
   "outputs": [
    {
     "data": {
      "text/html": [
       "<div>\n",
       "<style scoped>\n",
       "    .dataframe tbody tr th:only-of-type {\n",
       "        vertical-align: middle;\n",
       "    }\n",
       "\n",
       "    .dataframe tbody tr th {\n",
       "        vertical-align: top;\n",
       "    }\n",
       "\n",
       "    .dataframe thead th {\n",
       "        text-align: right;\n",
       "    }\n",
       "</style>\n",
       "<table border=\"1\" class=\"dataframe\">\n",
       "  <thead>\n",
       "    <tr style=\"text-align: right;\">\n",
       "      <th></th>\n",
       "      <th>baseline value</th>\n",
       "      <th>accelerations</th>\n",
       "      <th>fetal_movement</th>\n",
       "      <th>uterine_contractions</th>\n",
       "      <th>light_decelerations</th>\n",
       "      <th>severe_decelerations</th>\n",
       "      <th>prolongued_decelerations</th>\n",
       "      <th>abnormal_short_term_variability</th>\n",
       "      <th>mean_value_of_short_term_variability</th>\n",
       "      <th>percentage_of_time_with_abnormal_long_term_variability</th>\n",
       "      <th>...</th>\n",
       "      <th>histogram_min</th>\n",
       "      <th>histogram_max</th>\n",
       "      <th>histogram_number_of_peaks</th>\n",
       "      <th>histogram_number_of_zeroes</th>\n",
       "      <th>histogram_mode</th>\n",
       "      <th>histogram_mean</th>\n",
       "      <th>histogram_median</th>\n",
       "      <th>histogram_variance</th>\n",
       "      <th>histogram_tendency</th>\n",
       "      <th>fetal_health</th>\n",
       "    </tr>\n",
       "  </thead>\n",
       "  <tbody>\n",
       "    <tr>\n",
       "      <th>count</th>\n",
       "      <td>2126.000000</td>\n",
       "      <td>2126.000000</td>\n",
       "      <td>2126.000000</td>\n",
       "      <td>2126.000000</td>\n",
       "      <td>2126.000000</td>\n",
       "      <td>2126.000000</td>\n",
       "      <td>2126.000000</td>\n",
       "      <td>2126.000000</td>\n",
       "      <td>2126.000000</td>\n",
       "      <td>2126.00000</td>\n",
       "      <td>...</td>\n",
       "      <td>2126.000000</td>\n",
       "      <td>2126.000000</td>\n",
       "      <td>2126.000000</td>\n",
       "      <td>2126.000000</td>\n",
       "      <td>2126.000000</td>\n",
       "      <td>2126.000000</td>\n",
       "      <td>2126.000000</td>\n",
       "      <td>2126.000000</td>\n",
       "      <td>2126.000000</td>\n",
       "      <td>2126.000000</td>\n",
       "    </tr>\n",
       "    <tr>\n",
       "      <th>mean</th>\n",
       "      <td>133.303857</td>\n",
       "      <td>0.003178</td>\n",
       "      <td>0.009481</td>\n",
       "      <td>0.004366</td>\n",
       "      <td>0.001889</td>\n",
       "      <td>0.000003</td>\n",
       "      <td>0.000159</td>\n",
       "      <td>46.990122</td>\n",
       "      <td>1.332785</td>\n",
       "      <td>9.84666</td>\n",
       "      <td>...</td>\n",
       "      <td>93.579492</td>\n",
       "      <td>164.025400</td>\n",
       "      <td>4.068203</td>\n",
       "      <td>0.323612</td>\n",
       "      <td>137.452023</td>\n",
       "      <td>134.610536</td>\n",
       "      <td>138.090310</td>\n",
       "      <td>18.808090</td>\n",
       "      <td>0.320320</td>\n",
       "      <td>1.304327</td>\n",
       "    </tr>\n",
       "    <tr>\n",
       "      <th>std</th>\n",
       "      <td>9.840844</td>\n",
       "      <td>0.003866</td>\n",
       "      <td>0.046666</td>\n",
       "      <td>0.002946</td>\n",
       "      <td>0.002960</td>\n",
       "      <td>0.000057</td>\n",
       "      <td>0.000590</td>\n",
       "      <td>17.192814</td>\n",
       "      <td>0.883241</td>\n",
       "      <td>18.39688</td>\n",
       "      <td>...</td>\n",
       "      <td>29.560212</td>\n",
       "      <td>17.944183</td>\n",
       "      <td>2.949386</td>\n",
       "      <td>0.706059</td>\n",
       "      <td>16.381289</td>\n",
       "      <td>15.593596</td>\n",
       "      <td>14.466589</td>\n",
       "      <td>28.977636</td>\n",
       "      <td>0.610829</td>\n",
       "      <td>0.614377</td>\n",
       "    </tr>\n",
       "    <tr>\n",
       "      <th>min</th>\n",
       "      <td>106.000000</td>\n",
       "      <td>0.000000</td>\n",
       "      <td>0.000000</td>\n",
       "      <td>0.000000</td>\n",
       "      <td>0.000000</td>\n",
       "      <td>0.000000</td>\n",
       "      <td>0.000000</td>\n",
       "      <td>12.000000</td>\n",
       "      <td>0.200000</td>\n",
       "      <td>0.00000</td>\n",
       "      <td>...</td>\n",
       "      <td>50.000000</td>\n",
       "      <td>122.000000</td>\n",
       "      <td>0.000000</td>\n",
       "      <td>0.000000</td>\n",
       "      <td>60.000000</td>\n",
       "      <td>73.000000</td>\n",
       "      <td>77.000000</td>\n",
       "      <td>0.000000</td>\n",
       "      <td>-1.000000</td>\n",
       "      <td>1.000000</td>\n",
       "    </tr>\n",
       "    <tr>\n",
       "      <th>25%</th>\n",
       "      <td>126.000000</td>\n",
       "      <td>0.000000</td>\n",
       "      <td>0.000000</td>\n",
       "      <td>0.002000</td>\n",
       "      <td>0.000000</td>\n",
       "      <td>0.000000</td>\n",
       "      <td>0.000000</td>\n",
       "      <td>32.000000</td>\n",
       "      <td>0.700000</td>\n",
       "      <td>0.00000</td>\n",
       "      <td>...</td>\n",
       "      <td>67.000000</td>\n",
       "      <td>152.000000</td>\n",
       "      <td>2.000000</td>\n",
       "      <td>0.000000</td>\n",
       "      <td>129.000000</td>\n",
       "      <td>125.000000</td>\n",
       "      <td>129.000000</td>\n",
       "      <td>2.000000</td>\n",
       "      <td>0.000000</td>\n",
       "      <td>1.000000</td>\n",
       "    </tr>\n",
       "    <tr>\n",
       "      <th>50%</th>\n",
       "      <td>133.000000</td>\n",
       "      <td>0.002000</td>\n",
       "      <td>0.000000</td>\n",
       "      <td>0.004000</td>\n",
       "      <td>0.000000</td>\n",
       "      <td>0.000000</td>\n",
       "      <td>0.000000</td>\n",
       "      <td>49.000000</td>\n",
       "      <td>1.200000</td>\n",
       "      <td>0.00000</td>\n",
       "      <td>...</td>\n",
       "      <td>93.000000</td>\n",
       "      <td>162.000000</td>\n",
       "      <td>3.000000</td>\n",
       "      <td>0.000000</td>\n",
       "      <td>139.000000</td>\n",
       "      <td>136.000000</td>\n",
       "      <td>139.000000</td>\n",
       "      <td>7.000000</td>\n",
       "      <td>0.000000</td>\n",
       "      <td>1.000000</td>\n",
       "    </tr>\n",
       "    <tr>\n",
       "      <th>75%</th>\n",
       "      <td>140.000000</td>\n",
       "      <td>0.006000</td>\n",
       "      <td>0.003000</td>\n",
       "      <td>0.007000</td>\n",
       "      <td>0.003000</td>\n",
       "      <td>0.000000</td>\n",
       "      <td>0.000000</td>\n",
       "      <td>61.000000</td>\n",
       "      <td>1.700000</td>\n",
       "      <td>11.00000</td>\n",
       "      <td>...</td>\n",
       "      <td>120.000000</td>\n",
       "      <td>174.000000</td>\n",
       "      <td>6.000000</td>\n",
       "      <td>0.000000</td>\n",
       "      <td>148.000000</td>\n",
       "      <td>145.000000</td>\n",
       "      <td>148.000000</td>\n",
       "      <td>24.000000</td>\n",
       "      <td>1.000000</td>\n",
       "      <td>1.000000</td>\n",
       "    </tr>\n",
       "    <tr>\n",
       "      <th>max</th>\n",
       "      <td>160.000000</td>\n",
       "      <td>0.019000</td>\n",
       "      <td>0.481000</td>\n",
       "      <td>0.015000</td>\n",
       "      <td>0.015000</td>\n",
       "      <td>0.001000</td>\n",
       "      <td>0.005000</td>\n",
       "      <td>87.000000</td>\n",
       "      <td>7.000000</td>\n",
       "      <td>91.00000</td>\n",
       "      <td>...</td>\n",
       "      <td>159.000000</td>\n",
       "      <td>238.000000</td>\n",
       "      <td>18.000000</td>\n",
       "      <td>10.000000</td>\n",
       "      <td>187.000000</td>\n",
       "      <td>182.000000</td>\n",
       "      <td>186.000000</td>\n",
       "      <td>269.000000</td>\n",
       "      <td>1.000000</td>\n",
       "      <td>3.000000</td>\n",
       "    </tr>\n",
       "  </tbody>\n",
       "</table>\n",
       "<p>8 rows × 22 columns</p>\n",
       "</div>"
      ],
      "text/plain": [
       "       baseline value  accelerations  fetal_movement  uterine_contractions  \\\n",
       "count     2126.000000    2126.000000     2126.000000           2126.000000   \n",
       "mean       133.303857       0.003178        0.009481              0.004366   \n",
       "std          9.840844       0.003866        0.046666              0.002946   \n",
       "min        106.000000       0.000000        0.000000              0.000000   \n",
       "25%        126.000000       0.000000        0.000000              0.002000   \n",
       "50%        133.000000       0.002000        0.000000              0.004000   \n",
       "75%        140.000000       0.006000        0.003000              0.007000   \n",
       "max        160.000000       0.019000        0.481000              0.015000   \n",
       "\n",
       "       light_decelerations  severe_decelerations  prolongued_decelerations  \\\n",
       "count          2126.000000           2126.000000               2126.000000   \n",
       "mean              0.001889              0.000003                  0.000159   \n",
       "std               0.002960              0.000057                  0.000590   \n",
       "min               0.000000              0.000000                  0.000000   \n",
       "25%               0.000000              0.000000                  0.000000   \n",
       "50%               0.000000              0.000000                  0.000000   \n",
       "75%               0.003000              0.000000                  0.000000   \n",
       "max               0.015000              0.001000                  0.005000   \n",
       "\n",
       "       abnormal_short_term_variability  mean_value_of_short_term_variability  \\\n",
       "count                      2126.000000                           2126.000000   \n",
       "mean                         46.990122                              1.332785   \n",
       "std                          17.192814                              0.883241   \n",
       "min                          12.000000                              0.200000   \n",
       "25%                          32.000000                              0.700000   \n",
       "50%                          49.000000                              1.200000   \n",
       "75%                          61.000000                              1.700000   \n",
       "max                          87.000000                              7.000000   \n",
       "\n",
       "       percentage_of_time_with_abnormal_long_term_variability  ...  \\\n",
       "count                                         2126.00000       ...   \n",
       "mean                                             9.84666       ...   \n",
       "std                                             18.39688       ...   \n",
       "min                                              0.00000       ...   \n",
       "25%                                              0.00000       ...   \n",
       "50%                                              0.00000       ...   \n",
       "75%                                             11.00000       ...   \n",
       "max                                             91.00000       ...   \n",
       "\n",
       "       histogram_min  histogram_max  histogram_number_of_peaks  \\\n",
       "count    2126.000000    2126.000000                2126.000000   \n",
       "mean       93.579492     164.025400                   4.068203   \n",
       "std        29.560212      17.944183                   2.949386   \n",
       "min        50.000000     122.000000                   0.000000   \n",
       "25%        67.000000     152.000000                   2.000000   \n",
       "50%        93.000000     162.000000                   3.000000   \n",
       "75%       120.000000     174.000000                   6.000000   \n",
       "max       159.000000     238.000000                  18.000000   \n",
       "\n",
       "       histogram_number_of_zeroes  histogram_mode  histogram_mean  \\\n",
       "count                 2126.000000     2126.000000     2126.000000   \n",
       "mean                     0.323612      137.452023      134.610536   \n",
       "std                      0.706059       16.381289       15.593596   \n",
       "min                      0.000000       60.000000       73.000000   \n",
       "25%                      0.000000      129.000000      125.000000   \n",
       "50%                      0.000000      139.000000      136.000000   \n",
       "75%                      0.000000      148.000000      145.000000   \n",
       "max                     10.000000      187.000000      182.000000   \n",
       "\n",
       "       histogram_median  histogram_variance  histogram_tendency  fetal_health  \n",
       "count       2126.000000         2126.000000         2126.000000   2126.000000  \n",
       "mean         138.090310           18.808090            0.320320      1.304327  \n",
       "std           14.466589           28.977636            0.610829      0.614377  \n",
       "min           77.000000            0.000000           -1.000000      1.000000  \n",
       "25%          129.000000            2.000000            0.000000      1.000000  \n",
       "50%          139.000000            7.000000            0.000000      1.000000  \n",
       "75%          148.000000           24.000000            1.000000      1.000000  \n",
       "max          186.000000          269.000000            1.000000      3.000000  \n",
       "\n",
       "[8 rows x 22 columns]"
      ]
     },
     "execution_count": 3,
     "metadata": {},
     "output_type": "execute_result"
    }
   ],
   "source": [
    "df.describe()"
   ]
  },
  {
   "cell_type": "markdown",
   "id": "consecutive-suite",
   "metadata": {
    "papermill": {
     "duration": 0.025447,
     "end_time": "2021-05-01T16:29:57.265763",
     "exception": false,
     "start_time": "2021-05-01T16:29:57.240316",
     "status": "completed"
    },
    "tags": []
   },
   "source": [
    "## Correlation graph"
   ]
  },
  {
   "cell_type": "code",
   "execution_count": 4,
   "id": "differential-world",
   "metadata": {
    "execution": {
     "iopub.execute_input": "2021-05-01T16:29:57.323836Z",
     "iopub.status.busy": "2021-05-01T16:29:57.322979Z",
     "iopub.status.idle": "2021-05-01T16:30:00.223239Z",
     "shell.execute_reply": "2021-05-01T16:30:00.223819Z"
    },
    "papermill": {
     "duration": 2.932921,
     "end_time": "2021-05-01T16:30:00.223999",
     "exception": false,
     "start_time": "2021-05-01T16:29:57.291078",
     "status": "completed"
    },
    "tags": []
   },
   "outputs": [
    {
     "data": {
      "text/plain": [
       "<AxesSubplot:>"
      ]
     },
     "execution_count": 4,
     "metadata": {},
     "output_type": "execute_result"
    },
    {
     "data": {
      "image/png": "[encoded data removed]",
      "text/plain": [
       "<Figure size 1440x720 with 2 Axes>"
      ]
     },
     "metadata": {
      "needs_background": "light"
     },
     "output_type": "display_data"
    }
   ],
   "source": [
    "plt.figure(figsize=(20,10))\n",
    "sns.heatmap(df.corr(), annot=True, fmt='.0%')"
   ]
  },
  {
   "cell_type": "markdown",
   "id": "korean-rachel",
   "metadata": {
    "papermill": {
     "duration": 0.067669,
     "end_time": "2021-05-01T16:30:00.346715",
     "exception": false,
     "start_time": "2021-05-01T16:30:00.279046",
     "status": "completed"
    },
    "tags": []
   },
   "source": [
    "## Feature Engineering"
   ]
  },
  {
   "cell_type": "code",
   "execution_count": 5,
   "id": "aquatic-chaos",
   "metadata": {
    "execution": {
     "iopub.execute_input": "2021-05-01T16:30:00.477529Z",
     "iopub.status.busy": "2021-05-01T16:30:00.476491Z",
     "iopub.status.idle": "2021-05-01T16:30:00.480840Z",
     "shell.execute_reply": "2021-05-01T16:30:00.481722Z"
    },
    "papermill": {
     "duration": 0.069763,
     "end_time": "2021-05-01T16:30:00.482018",
     "exception": false,
     "start_time": "2021-05-01T16:30:00.412255",
     "status": "completed"
    },
    "tags": []
   },
   "outputs": [],
   "source": [
    "X=df.drop([\"fetal_health\"],axis=1)\n",
    "y=df[\"fetal_health\"]"
   ]
  },
  {
   "cell_type": "code",
   "execution_count": 6,
   "id": "judicial-schema",
   "metadata": {
    "execution": {
     "iopub.execute_input": "2021-05-01T16:30:00.602149Z",
     "iopub.status.busy": "2021-05-01T16:30:00.601250Z",
     "iopub.status.idle": "2021-05-01T16:30:00.725962Z",
     "shell.execute_reply": "2021-05-01T16:30:00.727318Z"
    },
    "papermill": {
     "duration": 0.190007,
     "end_time": "2021-05-01T16:30:00.727658",
     "exception": false,
     "start_time": "2021-05-01T16:30:00.537651",
     "status": "completed"
    },
    "tags": []
   },
   "outputs": [
    {
     "data": {
      "text/html": [
       "<div>\n",
       "<style scoped>\n",
       "    .dataframe tbody tr th:only-of-type {\n",
       "        vertical-align: middle;\n",
       "    }\n",
       "\n",
       "    .dataframe tbody tr th {\n",
       "        vertical-align: top;\n",
       "    }\n",
       "\n",
       "    .dataframe thead th {\n",
       "        text-align: right;\n",
       "    }\n",
       "</style>\n",
       "<table border=\"1\" class=\"dataframe\">\n",
       "  <thead>\n",
       "    <tr style=\"text-align: right;\">\n",
       "      <th></th>\n",
       "      <th>count</th>\n",
       "      <th>mean</th>\n",
       "      <th>std</th>\n",
       "      <th>min</th>\n",
       "      <th>25%</th>\n",
       "      <th>50%</th>\n",
       "      <th>75%</th>\n",
       "      <th>max</th>\n",
       "    </tr>\n",
       "  </thead>\n",
       "  <tbody>\n",
       "    <tr>\n",
       "      <th>baseline value</th>\n",
       "      <td>2126.0</td>\n",
       "      <td>1.069490e-15</td>\n",
       "      <td>1.000235</td>\n",
       "      <td>-2.775197</td>\n",
       "      <td>-0.742373</td>\n",
       "      <td>-0.030884</td>\n",
       "      <td>0.680604</td>\n",
       "      <td>2.713428</td>\n",
       "    </tr>\n",
       "    <tr>\n",
       "      <th>accelerations</th>\n",
       "      <td>2126.0</td>\n",
       "      <td>-6.015884e-17</td>\n",
       "      <td>1.000235</td>\n",
       "      <td>-0.822388</td>\n",
       "      <td>-0.822388</td>\n",
       "      <td>-0.304881</td>\n",
       "      <td>0.730133</td>\n",
       "      <td>4.093929</td>\n",
       "    </tr>\n",
       "    <tr>\n",
       "      <th>fetal_movement</th>\n",
       "      <td>2126.0</td>\n",
       "      <td>-1.336863e-17</td>\n",
       "      <td>1.000235</td>\n",
       "      <td>-0.203210</td>\n",
       "      <td>-0.203210</td>\n",
       "      <td>-0.203210</td>\n",
       "      <td>-0.138908</td>\n",
       "      <td>10.106540</td>\n",
       "    </tr>\n",
       "    <tr>\n",
       "      <th>uterine_contractions</th>\n",
       "      <td>2126.0</td>\n",
       "      <td>-1.336863e-16</td>\n",
       "      <td>1.000235</td>\n",
       "      <td>-1.482465</td>\n",
       "      <td>-0.803434</td>\n",
       "      <td>-0.124404</td>\n",
       "      <td>0.894142</td>\n",
       "      <td>3.610264</td>\n",
       "    </tr>\n",
       "    <tr>\n",
       "      <th>light_decelerations</th>\n",
       "      <td>2126.0</td>\n",
       "      <td>-5.347452e-17</td>\n",
       "      <td>1.000235</td>\n",
       "      <td>-0.638438</td>\n",
       "      <td>-0.638438</td>\n",
       "      <td>-0.638438</td>\n",
       "      <td>0.375243</td>\n",
       "      <td>4.429965</td>\n",
       "    </tr>\n",
       "    <tr>\n",
       "      <th>severe_decelerations</th>\n",
       "      <td>2126.0</td>\n",
       "      <td>6.684315e-18</td>\n",
       "      <td>1.000235</td>\n",
       "      <td>-0.057476</td>\n",
       "      <td>-0.057476</td>\n",
       "      <td>-0.057476</td>\n",
       "      <td>-0.057476</td>\n",
       "      <td>17.398686</td>\n",
       "    </tr>\n",
       "    <tr>\n",
       "      <th>prolongued_decelerations</th>\n",
       "      <td>2126.0</td>\n",
       "      <td>1.336863e-17</td>\n",
       "      <td>1.000235</td>\n",
       "      <td>-0.268754</td>\n",
       "      <td>-0.268754</td>\n",
       "      <td>-0.268754</td>\n",
       "      <td>-0.268754</td>\n",
       "      <td>8.208570</td>\n",
       "    </tr>\n",
       "    <tr>\n",
       "      <th>abnormal_short_term_variability</th>\n",
       "      <td>2126.0</td>\n",
       "      <td>-7.352747e-17</td>\n",
       "      <td>1.000235</td>\n",
       "      <td>-2.035639</td>\n",
       "      <td>-0.872088</td>\n",
       "      <td>0.116930</td>\n",
       "      <td>0.815060</td>\n",
       "      <td>2.327675</td>\n",
       "    </tr>\n",
       "    <tr>\n",
       "      <th>mean_value_of_short_term_variability</th>\n",
       "      <td>2126.0</td>\n",
       "      <td>6.684315e-17</td>\n",
       "      <td>1.000235</td>\n",
       "      <td>-1.282833</td>\n",
       "      <td>-0.716603</td>\n",
       "      <td>-0.150373</td>\n",
       "      <td>0.415857</td>\n",
       "      <td>6.417893</td>\n",
       "    </tr>\n",
       "    <tr>\n",
       "      <th>percentage_of_time_with_abnormal_long_term_variability</th>\n",
       "      <td>2126.0</td>\n",
       "      <td>-5.347452e-17</td>\n",
       "      <td>1.000235</td>\n",
       "      <td>-0.535361</td>\n",
       "      <td>-0.535361</td>\n",
       "      <td>-0.535361</td>\n",
       "      <td>0.062707</td>\n",
       "      <td>4.412293</td>\n",
       "    </tr>\n",
       "    <tr>\n",
       "      <th>mean_value_of_long_term_variability</th>\n",
       "      <td>2126.0</td>\n",
       "      <td>2.406354e-16</td>\n",
       "      <td>1.000235</td>\n",
       "      <td>-1.455081</td>\n",
       "      <td>-0.637583</td>\n",
       "      <td>-0.139975</td>\n",
       "      <td>0.464263</td>\n",
       "      <td>7.555172</td>\n",
       "    </tr>\n",
       "    <tr>\n",
       "      <th>histogram_width</th>\n",
       "      <td>2126.0</td>\n",
       "      <td>-3.007942e-17</td>\n",
       "      <td>1.000235</td>\n",
       "      <td>-1.731757</td>\n",
       "      <td>-0.858765</td>\n",
       "      <td>-0.075640</td>\n",
       "      <td>0.758838</td>\n",
       "      <td>2.812936</td>\n",
       "    </tr>\n",
       "    <tr>\n",
       "      <th>histogram_min</th>\n",
       "      <td>2126.0</td>\n",
       "      <td>-4.679021e-17</td>\n",
       "      <td>1.000235</td>\n",
       "      <td>-1.474609</td>\n",
       "      <td>-0.899376</td>\n",
       "      <td>-0.019608</td>\n",
       "      <td>0.893996</td>\n",
       "      <td>2.213648</td>\n",
       "    </tr>\n",
       "    <tr>\n",
       "      <th>histogram_max</th>\n",
       "      <td>2126.0</td>\n",
       "      <td>-1.203177e-16</td>\n",
       "      <td>1.000235</td>\n",
       "      <td>-2.342558</td>\n",
       "      <td>-0.670314</td>\n",
       "      <td>-0.112899</td>\n",
       "      <td>0.555999</td>\n",
       "      <td>4.123453</td>\n",
       "    </tr>\n",
       "    <tr>\n",
       "      <th>histogram_number_of_peaks</th>\n",
       "      <td>2126.0</td>\n",
       "      <td>-1.671079e-16</td>\n",
       "      <td>1.000235</td>\n",
       "      <td>-1.379664</td>\n",
       "      <td>-0.701397</td>\n",
       "      <td>-0.362263</td>\n",
       "      <td>0.655137</td>\n",
       "      <td>4.724738</td>\n",
       "    </tr>\n",
       "    <tr>\n",
       "      <th>histogram_number_of_zeroes</th>\n",
       "      <td>2126.0</td>\n",
       "      <td>2.757280e-17</td>\n",
       "      <td>1.000235</td>\n",
       "      <td>-0.458444</td>\n",
       "      <td>-0.458444</td>\n",
       "      <td>-0.458444</td>\n",
       "      <td>-0.458444</td>\n",
       "      <td>13.708003</td>\n",
       "    </tr>\n",
       "    <tr>\n",
       "      <th>histogram_mode</th>\n",
       "      <td>2126.0</td>\n",
       "      <td>1.069490e-16</td>\n",
       "      <td>1.000235</td>\n",
       "      <td>-4.729191</td>\n",
       "      <td>-0.516077</td>\n",
       "      <td>0.094519</td>\n",
       "      <td>0.644055</td>\n",
       "      <td>3.025381</td>\n",
       "    </tr>\n",
       "    <tr>\n",
       "      <th>histogram_mean</th>\n",
       "      <td>2126.0</td>\n",
       "      <td>-6.684315e-16</td>\n",
       "      <td>1.000235</td>\n",
       "      <td>-3.951945</td>\n",
       "      <td>-0.616458</td>\n",
       "      <td>0.089126</td>\n",
       "      <td>0.666422</td>\n",
       "      <td>3.039749</td>\n",
       "    </tr>\n",
       "    <tr>\n",
       "      <th>histogram_median</th>\n",
       "      <td>2126.0</td>\n",
       "      <td>2.673726e-16</td>\n",
       "      <td>1.000235</td>\n",
       "      <td>-4.223849</td>\n",
       "      <td>-0.628514</td>\n",
       "      <td>0.062897</td>\n",
       "      <td>0.685166</td>\n",
       "      <td>3.312527</td>\n",
       "    </tr>\n",
       "    <tr>\n",
       "      <th>histogram_variance</th>\n",
       "      <td>2126.0</td>\n",
       "      <td>-5.347452e-17</td>\n",
       "      <td>1.000235</td>\n",
       "      <td>-0.649208</td>\n",
       "      <td>-0.580173</td>\n",
       "      <td>-0.407586</td>\n",
       "      <td>0.179212</td>\n",
       "      <td>8.635997</td>\n",
       "    </tr>\n",
       "    <tr>\n",
       "      <th>histogram_tendency</th>\n",
       "      <td>2126.0</td>\n",
       "      <td>-1.069490e-16</td>\n",
       "      <td>1.000235</td>\n",
       "      <td>-2.162031</td>\n",
       "      <td>-0.524526</td>\n",
       "      <td>-0.524526</td>\n",
       "      <td>1.112980</td>\n",
       "      <td>1.112980</td>\n",
       "    </tr>\n",
       "  </tbody>\n",
       "</table>\n",
       "</div>"
      ],
      "text/plain": [
       "                                                     count          mean  \\\n",
       "baseline value                                      2126.0  1.069490e-15   \n",
       "accelerations                                       2126.0 -6.015884e-17   \n",
       "fetal_movement                                      2126.0 -1.336863e-17   \n",
       "uterine_contractions                                2126.0 -1.336863e-16   \n",
       "light_decelerations                                 2126.0 -5.347452e-17   \n",
       "severe_decelerations                                2126.0  6.684315e-18   \n",
       "prolongued_decelerations                            2126.0  1.336863e-17   \n",
       "abnormal_short_term_variability                     2126.0 -7.352747e-17   \n",
       "mean_value_of_short_term_variability                2126.0  6.684315e-17   \n",
       "percentage_of_time_with_abnormal_long_term_vari...  2126.0 -5.347452e-17   \n",
       "mean_value_of_long_term_variability                 2126.0  2.406354e-16   \n",
       "histogram_width                                     2126.0 -3.007942e-17   \n",
       "histogram_min                                       2126.0 -4.679021e-17   \n",
       "histogram_max                                       2126.0 -1.203177e-16   \n",
       "histogram_number_of_peaks                           2126.0 -1.671079e-16   \n",
       "histogram_number_of_zeroes                          2126.0  2.757280e-17   \n",
       "histogram_mode                                      2126.0  1.069490e-16   \n",
       "histogram_mean                                      2126.0 -6.684315e-16   \n",
       "histogram_median                                    2126.0  2.673726e-16   \n",
       "histogram_variance                                  2126.0 -5.347452e-17   \n",
       "histogram_tendency                                  2126.0 -1.069490e-16   \n",
       "\n",
       "                                                         std       min  \\\n",
       "baseline value                                      1.000235 -2.775197   \n",
       "accelerations                                       1.000235 -0.822388   \n",
       "fetal_movement                                      1.000235 -0.203210   \n",
       "uterine_contractions                                1.000235 -1.482465   \n",
       "light_decelerations                                 1.000235 -0.638438   \n",
       "severe_decelerations                                1.000235 -0.057476   \n",
       "prolongued_decelerations                            1.000235 -0.268754   \n",
       "abnormal_short_term_variability                     1.000235 -2.035639   \n",
       "mean_value_of_short_term_variability                1.000235 -1.282833   \n",
       "percentage_of_time_with_abnormal_long_term_vari...  1.000235 -0.535361   \n",
       "mean_value_of_long_term_variability                 1.000235 -1.455081   \n",
       "histogram_width                                     1.000235 -1.731757   \n",
       "histogram_min                                       1.000235 -1.474609   \n",
       "histogram_max                                       1.000235 -2.342558   \n",
       "histogram_number_of_peaks                           1.000235 -1.379664   \n",
       "histogram_number_of_zeroes                          1.000235 -0.458444   \n",
       "histogram_mode                                      1.000235 -4.729191   \n",
       "histogram_mean                                      1.000235 -3.951945   \n",
       "histogram_median                                    1.000235 -4.223849   \n",
       "histogram_variance                                  1.000235 -0.649208   \n",
       "histogram_tendency                                  1.000235 -2.162031   \n",
       "\n",
       "                                                         25%       50%  \\\n",
       "baseline value                                     -0.742373 -0.030884   \n",
       "accelerations                                      -0.822388 -0.304881   \n",
       "fetal_movement                                     -0.203210 -0.203210   \n",
       "uterine_contractions                               -0.803434 -0.124404   \n",
       "light_decelerations                                -0.638438 -0.638438   \n",
       "severe_decelerations                               -0.057476 -0.057476   \n",
       "prolongued_decelerations                           -0.268754 -0.268754   \n",
       "abnormal_short_term_variability                    -0.872088  0.116930   \n",
       "mean_value_of_short_term_variability               -0.716603 -0.150373   \n",
       "percentage_of_time_with_abnormal_long_term_vari... -0.535361 -0.535361   \n",
       "mean_value_of_long_term_variability                -0.637583 -0.139975   \n",
       "histogram_width                                    -0.858765 -0.075640   \n",
       "histogram_min                                      -0.899376 -0.019608   \n",
       "histogram_max                                      -0.670314 -0.112899   \n",
       "histogram_number_of_peaks                          -0.701397 -0.362263   \n",
       "histogram_number_of_zeroes                         -0.458444 -0.458444   \n",
       "histogram_mode                                     -0.516077  0.094519   \n",
       "histogram_mean                                     -0.616458  0.089126   \n",
       "histogram_median                                   -0.628514  0.062897   \n",
       "histogram_variance                                 -0.580173 -0.407586   \n",
       "histogram_tendency                                 -0.524526 -0.524526   \n",
       "\n",
       "                                                         75%        max  \n",
       "baseline value                                      0.680604   2.713428  \n",
       "accelerations                                       0.730133   4.093929  \n",
       "fetal_movement                                     -0.138908  10.106540  \n",
       "uterine_contractions                                0.894142   3.610264  \n",
       "light_decelerations                                 0.375243   4.429965  \n",
       "severe_decelerations                               -0.057476  17.398686  \n",
       "prolongued_decelerations                           -0.268754   8.208570  \n",
       "abnormal_short_term_variability                     0.815060   2.327675  \n",
       "mean_value_of_short_term_variability                0.415857   6.417893  \n",
       "percentage_of_time_with_abnormal_long_term_vari...  0.062707   4.412293  \n",
       "mean_value_of_long_term_variability                 0.464263   7.555172  \n",
       "histogram_width                                     0.758838   2.812936  \n",
       "histogram_min                                       0.893996   2.213648  \n",
       "histogram_max                                       0.555999   4.123453  \n",
       "histogram_number_of_peaks                           0.655137   4.724738  \n",
       "histogram_number_of_zeroes                         -0.458444  13.708003  \n",
       "histogram_mode                                      0.644055   3.025381  \n",
       "histogram_mean                                      0.666422   3.039749  \n",
       "histogram_median                                    0.685166   3.312527  \n",
       "histogram_variance                                  0.179212   8.635997  \n",
       "histogram_tendency                                  1.112980   1.112980  "
      ]
     },
     "execution_count": 6,
     "metadata": {},
     "output_type": "execute_result"
    }
   ],
   "source": [
    "col_names = list(X.columns)\n",
    "s_scaler = preprocessing.StandardScaler()\n",
    "X_df= s_scaler.fit_transform(X)\n",
    "X_df = pd.DataFrame(X_df, columns=col_names)   \n",
    "X_df.describe().T"
   ]
  },
  {
   "cell_type": "markdown",
   "id": "tropical-bacteria",
   "metadata": {
    "papermill": {
     "duration": 0.058213,
     "end_time": "2021-05-01T16:30:00.842906",
     "exception": false,
     "start_time": "2021-05-01T16:30:00.784693",
     "status": "completed"
    },
    "tags": []
   },
   "source": [
    "## Split training/testing data"
   ]
  },
  {
   "cell_type": "code",
   "execution_count": 7,
   "id": "intended-oliver",
   "metadata": {
    "execution": {
     "iopub.execute_input": "2021-05-01T16:30:00.984317Z",
     "iopub.status.busy": "2021-05-01T16:30:00.983497Z",
     "iopub.status.idle": "2021-05-01T16:30:00.988256Z",
     "shell.execute_reply": "2021-05-01T16:30:00.988929Z"
    },
    "papermill": {
     "duration": 0.067467,
     "end_time": "2021-05-01T16:30:00.989221",
     "exception": false,
     "start_time": "2021-05-01T16:30:00.921754",
     "status": "completed"
    },
    "tags": []
   },
   "outputs": [],
   "source": [
    "X_train, X_test, y_train, y_test = train_test_split(X_df, y, test_size=0.25, random_state=23)"
   ]
  },
  {
   "cell_type": "markdown",
   "id": "three-transsexual",
   "metadata": {
    "papermill": {
     "duration": 0.050905,
     "end_time": "2021-05-01T16:30:01.092711",
     "exception": false,
     "start_time": "2021-05-01T16:30:01.041806",
     "status": "completed"
    },
    "tags": []
   },
   "source": [
    "<h1 id=\"class\" style=\"color:#a05d40; background:#e8e5dc; border:0.5px dotted;\"> \n",
    "    <center>Classification\n",
    "        <a class=\"anchor-link\" href=\"#class\" target=\"_self\">¶</a>\n",
    "    </center>\n",
    "</h1>"
   ]
  },
  {
   "cell_type": "markdown",
   "id": "bearing-boutique",
   "metadata": {
    "papermill": {
     "duration": 0.034325,
     "end_time": "2021-05-01T16:30:01.185484",
     "exception": false,
     "start_time": "2021-05-01T16:30:01.151159",
     "status": "completed"
    },
    "tags": []
   },
   "source": [
    "## Loading TPOT with XGBoost"
   ]
  },
  {
   "cell_type": "code",
   "execution_count": 8,
   "id": "surprising-finance",
   "metadata": {
    "execution": {
     "iopub.execute_input": "2021-05-01T16:30:01.296770Z",
     "iopub.status.busy": "2021-05-01T16:30:01.295873Z",
     "iopub.status.idle": "2021-05-01T16:30:41.872079Z",
     "shell.execute_reply": "2021-05-01T16:30:41.871471Z"
    },
    "papermill": {
     "duration": 40.641783,
     "end_time": "2021-05-01T16:30:41.872246",
     "exception": false,
     "start_time": "2021-05-01T16:30:01.230463",
     "status": "completed"
    },
    "tags": []
   },
   "outputs": [
    {
     "data": {
      "application/vnd.jupyter.widget-view+json": {
       "model_id": "70f37929e53c487faba582fd7a726ed6",
       "version_major": 2,
       "version_minor": 0
      },
      "text/plain": [
       "Optimization Progress:   0%|          | 0/30 [00:00<?, ?pipeline/s]"
      ]
     },
     "metadata": {},
     "output_type": "display_data"
    },
    {
     "name": "stdout",
     "output_type": "stream",
     "text": [
      "\n",
      "Generation 1 - Current best internal CV score: 0.9240827270755702\n",
      "\n",
      "Generation 2 - Current best internal CV score: 0.9240827270755702\n",
      "\n",
      "Best pipeline: RandomForestClassifier(input_matrix, bootstrap=False, criterion=entropy, max_features=0.6500000000000001, min_samples_leaf=10, min_samples_split=15, n_estimators=100)\n"
     ]
    },
    {
     "data": {
      "text/plain": [
       "TPOTClassifier(config_dict={'sklearn.cluster.FeatureAgglomeration': {'affinity': ['euclidean',\n",
       "                                                                                  'l1',\n",
       "                                                                                  'l2',\n",
       "                                                                                  'manhattan',\n",
       "                                                                                  'cosine'],\n",
       "                                                                     'linkage': ['ward',\n",
       "                                                                                 'complete',\n",
       "                                                                                 'average']},\n",
       "                            'sklearn.decomposition.FastICA': {'tol': array([0.  , 0.05, 0.1 , 0.15, 0.2 , 0.25, 0.3 , 0.35, 0.4 , 0.45, 0.5 ,\n",
       "       0.55, 0.6 , 0.65, 0.7 , 0.75, 0.8 , 0.85, 0.9 , 0.95, 1.  ])},\n",
       "                            'sklearn.decomposition.PCA': {'iterated_power...\n",
       "                                                      'tol': [1e-05, 0.0001,\n",
       "                                                              0.001, 0.01,\n",
       "                                                              0.1]},\n",
       "                            'sklearn.tree.DecisionTreeClassifier': {'criterion': ['gini',\n",
       "                                                                                  'entropy'],\n",
       "                                                                    'max_depth': range(1, 11),\n",
       "                                                                    'min_samples_leaf': range(1, 21),\n",
       "                                                                    'min_samples_split': range(2, 21)},\n",
       "                            'tpot.builtins.OneHotEncoder': {'minimum_fraction': [0.05,\n",
       "                                                                                 0.1,\n",
       "                                                                                 0.15,\n",
       "                                                                                 0.2,\n",
       "                                                                                 0.25],\n",
       "                                                            'sparse': [False],\n",
       "                                                            'threshold': [10]}, ...},\n",
       "               generations=2, population_size=10, verbosity=2)"
      ]
     },
     "execution_count": 8,
     "metadata": {},
     "output_type": "execute_result"
    }
   ],
   "source": [
    "classifier_config_dict['xgboost.XGBClassifier'] = {\n",
    "    'n_estimators': [100],\n",
    "    'max_depth': range(1, 11),\n",
    "    'learning_rate': [1e-3, 1e-2, 1e-1, 0.5, 1.],\n",
    "    'subsample': np.arange(0.05, 1.01, 0.05),\n",
    "    'min_child_weight': range(1, 21),\n",
    "    'n_jobs': [1],\n",
    "    'verbosity': [0]\n",
    "}\n",
    "        \n",
    "# for a quick test\n",
    "tpot = TPOTClassifier(generations=2, population_size=10, verbosity=2,\n",
    "                      config_dict=classifier_config_dict)\n",
    "tpot.fit(X_train, y_train)"
   ]
  },
  {
   "cell_type": "markdown",
   "id": "loose-investigation",
   "metadata": {
    "papermill": {
     "duration": 0.034454,
     "end_time": "2021-05-01T16:30:41.941805",
     "exception": false,
     "start_time": "2021-05-01T16:30:41.907351",
     "status": "completed"
    },
    "tags": []
   },
   "source": [
    "## Fit XGBoost with best parameters"
   ]
  },
  {
   "cell_type": "code",
   "execution_count": 9,
   "id": "finite-architect",
   "metadata": {
    "execution": {
     "iopub.execute_input": "2021-05-01T16:30:42.018407Z",
     "iopub.status.busy": "2021-05-01T16:30:42.017444Z",
     "iopub.status.idle": "2021-05-01T16:30:42.532540Z",
     "shell.execute_reply": "2021-05-01T16:30:42.531972Z"
    },
    "papermill": {
     "duration": 0.555733,
     "end_time": "2021-05-01T16:30:42.532680",
     "exception": false,
     "start_time": "2021-05-01T16:30:41.976947",
     "status": "completed"
    },
    "tags": []
   },
   "outputs": [
    {
     "data": {
      "text/plain": [
       "XGBClassifier(base_score=0.5, booster='gbtree', colsample_bylevel=1,\n",
       "              colsample_bynode=1, colsample_bytree=1, gamma=0, gpu_id=-1,\n",
       "              importance_type='gain', interaction_constraints='',\n",
       "              learning_rate=0.300000012, max_delta_step=0, max_depth=6,\n",
       "              min_child_weight=1, missing=nan, monotone_constraints='()',\n",
       "              n_estimators=100, n_jobs=2, num_parallel_tree=1,\n",
       "              objective='multi:softprob', random_state=0, reg_alpha=0,\n",
       "              reg_lambda=1, scale_pos_weight=None, subsample=1,\n",
       "              tree_method='exact', validate_parameters=1, verbosity=None)"
      ]
     },
     "execution_count": 9,
     "metadata": {},
     "output_type": "execute_result"
    }
   ],
   "source": [
    "xgb = XGBClassifier(tpot._optimized_pipeline)\n",
    "xgb.fit(X_train, y_train)"
   ]
  },
  {
   "cell_type": "markdown",
   "id": "applied-butterfly",
   "metadata": {
    "papermill": {
     "duration": 0.033158,
     "end_time": "2021-05-01T16:30:42.601275",
     "exception": false,
     "start_time": "2021-05-01T16:30:42.568117",
     "status": "completed"
    },
    "tags": []
   },
   "source": [
    "## Analyze results"
   ]
  },
  {
   "cell_type": "code",
   "execution_count": 10,
   "id": "prospective-immune",
   "metadata": {
    "execution": {
     "iopub.execute_input": "2021-05-01T16:30:42.678989Z",
     "iopub.status.busy": "2021-05-01T16:30:42.673174Z",
     "iopub.status.idle": "2021-05-01T16:30:42.684479Z",
     "shell.execute_reply": "2021-05-01T16:30:42.683682Z"
    },
    "papermill": {
     "duration": 0.04931,
     "end_time": "2021-05-01T16:30:42.684664",
     "exception": false,
     "start_time": "2021-05-01T16:30:42.635354",
     "status": "completed"
    },
    "tags": []
   },
   "outputs": [
    {
     "name": "stdout",
     "output_type": "stream",
     "text": [
      "Accuracy: 0.964\n"
     ]
    }
   ],
   "source": [
    "preds = xgb.predict(X_test)\n",
    "acc = accuracy_score(y_test, preds)\n",
    "print(\"Accuracy: {:1.3f}\".format(acc))"
   ]
  },
  {
   "cell_type": "markdown",
   "id": "still-berkeley",
   "metadata": {
    "papermill": {
     "duration": 0.036347,
     "end_time": "2021-05-01T16:30:42.756867",
     "exception": false,
     "start_time": "2021-05-01T16:30:42.720520",
     "status": "completed"
    },
    "tags": []
   },
   "source": [
    "<h1 id=\"inference\" style=\"color:#a05d40; background:#e8e5dc; border:0.5px dotted;\"> \n",
    "    <center>Inference\n",
    "        <a class=\"anchor-link\" href=\"#inference\" target=\"_self\">¶</a>\n",
    "    </center>\n",
    "</h1>"
   ]
  },
  {
   "cell_type": "markdown",
   "id": "small-green",
   "metadata": {
    "papermill": {
     "duration": 0.034171,
     "end_time": "2021-05-01T16:30:42.826893",
     "exception": false,
     "start_time": "2021-05-01T16:30:42.792722",
     "status": "completed"
    },
    "tags": []
   },
   "source": [
    "## Transform labels to one hot encodings"
   ]
  },
  {
   "cell_type": "code",
   "execution_count": 11,
   "id": "loving-negative",
   "metadata": {
    "execution": {
     "iopub.execute_input": "2021-05-01T16:30:42.907106Z",
     "iopub.status.busy": "2021-05-01T16:30:42.905871Z",
     "iopub.status.idle": "2021-05-01T16:30:42.911570Z",
     "shell.execute_reply": "2021-05-01T16:30:42.912279Z"
    },
    "papermill": {
     "duration": 0.050315,
     "end_time": "2021-05-01T16:30:42.912424",
     "exception": false,
     "start_time": "2021-05-01T16:30:42.862109",
     "status": "completed"
    },
    "tags": []
   },
   "outputs": [],
   "source": [
    "y_train = pd.get_dummies(y_train)\n",
    "y_test = pd.get_dummies(y_test)"
   ]
  },
  {
   "cell_type": "markdown",
   "id": "earlier-ladder",
   "metadata": {
    "papermill": {
     "duration": 0.035282,
     "end_time": "2021-05-01T16:30:42.983801",
     "exception": false,
     "start_time": "2021-05-01T16:30:42.948519",
     "status": "completed"
    },
    "tags": []
   },
   "source": [
    "## Set the parameters for genetic hyperparameter tunning"
   ]
  },
  {
   "cell_type": "code",
   "execution_count": 12,
   "id": "proud-flavor",
   "metadata": {
    "execution": {
     "iopub.execute_input": "2021-05-01T16:30:43.063971Z",
     "iopub.status.busy": "2021-05-01T16:30:43.063072Z",
     "iopub.status.idle": "2021-05-01T16:30:43.066627Z",
     "shell.execute_reply": "2021-05-01T16:30:43.066120Z"
    },
    "papermill": {
     "duration": 0.046375,
     "end_time": "2021-05-01T16:30:43.066745",
     "exception": false,
     "start_time": "2021-05-01T16:30:43.020370",
     "status": "completed"
    },
    "tags": []
   },
   "outputs": [],
   "source": [
    "params = {\n",
    "    \"epochs\": [25, 75, 100],\n",
    "    \"batch_size\": [8, 16, 32],\n",
    "    \"n_layers\": [1, 2, 3],\n",
    "    \"n_neurons\": [8, 16, 32],\n",
    "    \"dropout\": [0.0],\n",
    "    \"optimizers\": [\"nadam\", \"adam\", \"adadelta\", \"sgd\"],\n",
    "    \"activations\": [\"relu\", \"sigmoid\", \"tanh\"],\n",
    "    \"last_layer_activations\": [\"tanh\", \"sigmoid\", \"relu\", \"softmax\"],\n",
    "    \"losses\": [\"mean_absolute_error\", \"mean_squared_error\",\n",
    "               \"mean_squared_logarithmic_error\"],\n",
    "    \"metrics\": [\"accuracy\"]\n",
    "}"
   ]
  },
  {
   "cell_type": "markdown",
   "id": "korean-waste",
   "metadata": {
    "_kg_hide-input": false,
    "papermill": {
     "duration": 0.035664,
     "end_time": "2021-05-01T16:30:43.144834",
     "exception": false,
     "start_time": "2021-05-01T16:30:43.109170",
     "status": "completed"
    },
    "tags": []
   },
   "source": [
    "## Use of NeuroEvolution to find best parameters"
   ]
  },
  {
   "cell_type": "code",
   "execution_count": 13,
   "id": "egyptian-husband",
   "metadata": {
    "_kg_hide-output": true,
    "execution": {
     "iopub.execute_input": "2021-05-01T16:30:43.224635Z",
     "iopub.status.busy": "2021-05-01T16:30:43.223478Z",
     "iopub.status.idle": "2021-05-01T17:25:32.180492Z",
     "shell.execute_reply": "2021-05-01T17:25:32.177210Z"
    },
    "papermill": {
     "duration": 3288.998535,
     "end_time": "2021-05-01T17:25:32.180719",
     "exception": false,
     "start_time": "2021-05-01T16:30:43.182184",
     "status": "completed"
    },
    "tags": []
   },
   "outputs": [
    {
     "name": "stderr",
     "output_type": "stream",
     "text": [
      "100%|██████████| 10/10 [54:48<00:00, 328.89s/it]"
     ]
    },
    {
     "name": "stdout",
     "output_type": "stream",
     "text": [
      "[01/May/2021 17:25:32] INFO - best accuracy: 0.6666666865348816, best params: {'epochs': 25, 'batch_size': 32, 'n_layers': 2, 'n_neurons': 16, 'dropout': 0.0, 'optimizers': 'adam', 'activations': 'relu', 'last_layer_activations': 'relu', 'losses': 'mean_absolute_error', 'metrics': 'accuracy'}\n"
     ]
    },
    {
     "name": "stderr",
     "output_type": "stream",
     "text": [
      "\n"
     ]
    }
   ],
   "source": [
    "search = NeuroEvolution(generations=2, population=10, params=params)\n",
    "\n",
    "search.evolve(X_train, y_train, X_test, y_test)"
   ]
  },
  {
   "cell_type": "markdown",
   "id": "legal-compilation",
   "metadata": {
    "papermill": {
     "duration": 0.046735,
     "end_time": "2021-05-01T17:25:32.271268",
     "exception": false,
     "start_time": "2021-05-01T17:25:32.224533",
     "status": "completed"
    },
    "tags": []
   },
   "source": [
    "## Use best parameters to train a DNN"
   ]
  },
  {
   "cell_type": "code",
   "execution_count": 14,
   "id": "criminal-seller",
   "metadata": {
    "execution": {
     "iopub.execute_input": "2021-05-01T17:25:32.367382Z",
     "iopub.status.busy": "2021-05-01T17:25:32.366508Z",
     "iopub.status.idle": "2021-05-01T17:25:32.375615Z",
     "shell.execute_reply": "2021-05-01T17:25:32.375018Z"
    },
    "papermill": {
     "duration": 0.061948,
     "end_time": "2021-05-01T17:25:32.375766",
     "exception": false,
     "start_time": "2021-05-01T17:25:32.313818",
     "status": "completed"
    },
    "tags": []
   },
   "outputs": [],
   "source": [
    "n_layers = search.best_params.network['n_layers']\n",
    "n_neurons = search.best_params.network['n_neurons']\n",
    "activation = search.best_params.network['activations']\n",
    "last_activation = search.best_params.network['last_layer_activations']\n",
    "\n",
    "model = tf.keras.Sequential()\n",
    "for n in range(n_layers):\n",
    "    model.add(Dense(n_neurons, activation=activation))\n",
    "model.add(Dense(y_train.shape[1], activation=last_activation))"
   ]
  },
  {
   "cell_type": "markdown",
   "id": "proud-breakdown",
   "metadata": {
    "papermill": {
     "duration": 0.043105,
     "end_time": "2021-05-01T17:25:32.462562",
     "exception": false,
     "start_time": "2021-05-01T17:25:32.419457",
     "status": "completed"
    },
    "tags": []
   },
   "source": [
    "## Model build and summary"
   ]
  },
  {
   "cell_type": "code",
   "execution_count": 15,
   "id": "vital-evans",
   "metadata": {
    "execution": {
     "iopub.execute_input": "2021-05-01T17:25:32.556777Z",
     "iopub.status.busy": "2021-05-01T17:25:32.555252Z",
     "iopub.status.idle": "2021-05-01T17:25:32.587955Z",
     "shell.execute_reply": "2021-05-01T17:25:32.588504Z"
    },
    "papermill": {
     "duration": 0.08307,
     "end_time": "2021-05-01T17:25:32.588676",
     "exception": false,
     "start_time": "2021-05-01T17:25:32.505606",
     "status": "completed"
    },
    "tags": []
   },
   "outputs": [
    {
     "name": "stdout",
     "output_type": "stream",
     "text": [
      "Model: \"sequential_10\"\n",
      "_________________________________________________________________\n",
      "Layer (type)                 Output Shape              Param #   \n",
      "=================================================================\n",
      "dense_27 (Dense)             (1594, 16)                352       \n",
      "_________________________________________________________________\n",
      "dense_28 (Dense)             (1594, 16)                272       \n",
      "_________________________________________________________________\n",
      "dense_29 (Dense)             (1594, 3)                 51        \n",
      "=================================================================\n",
      "Total params: 675\n",
      "Trainable params: 675\n",
      "Non-trainable params: 0\n",
      "_________________________________________________________________\n"
     ]
    }
   ],
   "source": [
    "model.build(X_train.shape)\n",
    "model.summary()"
   ]
  },
  {
   "cell_type": "markdown",
   "id": "inclusive-hawaii",
   "metadata": {
    "papermill": {
     "duration": 0.043527,
     "end_time": "2021-05-01T17:25:32.676692",
     "exception": false,
     "start_time": "2021-05-01T17:25:32.633165",
     "status": "completed"
    },
    "tags": []
   },
   "source": [
    "## Compile and fit the model"
   ]
  },
  {
   "cell_type": "code",
   "execution_count": 16,
   "id": "binary-undergraduate",
   "metadata": {
    "execution": {
     "iopub.execute_input": "2021-05-01T17:25:32.770671Z",
     "iopub.status.busy": "2021-05-01T17:25:32.769948Z",
     "iopub.status.idle": "2021-05-01T17:25:32.774675Z",
     "shell.execute_reply": "2021-05-01T17:25:32.775199Z"
    },
    "papermill": {
     "duration": 0.054541,
     "end_time": "2021-05-01T17:25:32.775384",
     "exception": false,
     "start_time": "2021-05-01T17:25:32.720843",
     "status": "completed"
    },
    "tags": []
   },
   "outputs": [],
   "source": [
    "epochs = search.best_params.network['epochs']\n",
    "batch_size = search.best_params.network['batch_size']\n",
    "optimizer = search.best_params.network['optimizers']\n",
    "loss = search.best_params.network['losses']\n",
    "metrics = [search.best_params.network['metrics']]"
   ]
  },
  {
   "cell_type": "code",
   "execution_count": 17,
   "id": "european-shelter",
   "metadata": {
    "execution": {
     "iopub.execute_input": "2021-05-01T17:25:32.874599Z",
     "iopub.status.busy": "2021-05-01T17:25:32.873001Z",
     "iopub.status.idle": "2021-05-01T17:25:38.607277Z",
     "shell.execute_reply": "2021-05-01T17:25:38.606336Z"
    },
    "papermill": {
     "duration": 5.788569,
     "end_time": "2021-05-01T17:25:38.607463",
     "exception": false,
     "start_time": "2021-05-01T17:25:32.818894",
     "status": "completed"
    },
    "tags": []
   },
   "outputs": [],
   "source": [
    "model.compile(optimizer=optimizer, loss=loss, metrics=metrics)\n",
    "history = model.fit(X_train, y_train, epochs=epochs, batch_size=batch_size, validation_data=(X_test, y_test), verbose=0)"
   ]
  },
  {
   "cell_type": "markdown",
   "id": "interpreted-basketball",
   "metadata": {
    "papermill": {
     "duration": 0.044147,
     "end_time": "2021-05-01T17:25:38.695529",
     "exception": false,
     "start_time": "2021-05-01T17:25:38.651382",
     "status": "completed"
    },
    "tags": []
   },
   "source": [
    "## Analyze results"
   ]
  },
  {
   "cell_type": "code",
   "execution_count": 18,
   "id": "experienced-record",
   "metadata": {
    "execution": {
     "iopub.execute_input": "2021-05-01T17:25:38.809954Z",
     "iopub.status.busy": "2021-05-01T17:25:38.808855Z",
     "iopub.status.idle": "2021-05-01T17:25:38.991561Z",
     "shell.execute_reply": "2021-05-01T17:25:38.992050Z"
    },
    "papermill": {
     "duration": 0.251377,
     "end_time": "2021-05-01T17:25:38.992247",
     "exception": false,
     "start_time": "2021-05-01T17:25:38.740870",
     "status": "completed"
    },
    "tags": []
   },
   "outputs": [
    {
     "data": {
      "image/png": "[encoded data removed]",
      "text/plain": [
       "<Figure size 1008x576 with 1 Axes>"
      ]
     },
     "metadata": {
      "needs_background": "light"
     },
     "output_type": "display_data"
    }
   ],
   "source": [
    "_ = plt.figure(figsize=(14,8))\n",
    "_ = plt.plot(history.history['accuracy'], label=\"Accuracy\")\n",
    "_ = plt.plot(history.history['loss'], label=\"Loss\")\n",
    "plt.legend()\n",
    "plt.show()"
   ]
  },
  {
   "cell_type": "code",
   "execution_count": 19,
   "id": "wound-partnership",
   "metadata": {
    "execution": {
     "iopub.execute_input": "2021-05-01T17:25:39.084670Z",
     "iopub.status.busy": "2021-05-01T17:25:39.083684Z",
     "iopub.status.idle": "2021-05-01T17:25:39.234457Z",
     "shell.execute_reply": "2021-05-01T17:25:39.233894Z"
    },
    "papermill": {
     "duration": 0.198693,
     "end_time": "2021-05-01T17:25:39.234590",
     "exception": false,
     "start_time": "2021-05-01T17:25:39.035897",
     "status": "completed"
    },
    "tags": []
   },
   "outputs": [
    {
     "name": "stdout",
     "output_type": "stream",
     "text": [
      "Accuracy: 0.827\n"
     ]
    }
   ],
   "source": [
    "preds = model.predict(X_test)\n",
    "acc = accuracy_score(np.argmax(preds, axis=1), np.argmax(y_test.values, axis=1))\n",
    "print(\"Accuracy: {:1.3f}\".format(acc))"
   ]
  }
 ],
 "metadata": {
  "kernelspec": {
   "display_name": "Python 3",
   "language": "python",
   "name": "python3"
  },
  "language_info": {
   "codemirror_mode": {
    "name": "ipython",
    "version": 3
   },
   "file_extension": ".py",
   "mimetype": "text/x-python",
   "name": "python",
   "nbconvert_exporter": "python",
   "pygments_lexer": "ipython3",
   "version": "3.7.10"
  },
  "papermill": {
   "default_parameters": {},
   "duration": 3374.786648,
   "end_time": "2021-05-01T17:25:43.744082",
   "environment_variables": {},
   "exception": null,
   "input_path": "__notebook__.ipynb",
   "output_path": "__notebook__.ipynb",
   "parameters": {},
   "start_time": "2021-05-01T16:29:28.957434",
   "version": "2.3.3"
  },
  "widgets": {
   "application/vnd.jupyter.widget-state+json": {
    "state": {
     "0e4cceadb12243c2b3a2aaa4039c3cb5": {
      "model_module": "@jupyter-widgets/base",
      "model_module_version": "1.2.0",
      "model_name": "LayoutModel",
      "state": {
       "_model_module": "@jupyter-widgets/base",
       "_model_module_version": "1.2.0",
       "_model_name": "LayoutModel",
       "_view_count": null,
       "_view_module": "@jupyter-widgets/base",
       "_view_module_version": "1.2.0",
       "_view_name": "LayoutView",
       "align_content": null,
       "align_items": null,
       "align_self": null,
       "border": null,
       "bottom": null,
       "display": null,
       "flex": null,
       "flex_flow": null,
       "grid_area": null,
       "grid_auto_columns": null,
       "grid_auto_flow": null,
       "grid_auto_rows": null,
       "grid_column": null,
       "grid_gap": null,
       "grid_row": null,
       "grid_template_areas": null,
       "grid_template_columns": null,
       "grid_template_rows": null,
       "height": null,
       "justify_content": null,
       "justify_items": null,
       "left": null,
       "margin": null,
       "max_height": null,
       "max_width": null,
       "min_height": null,
       "min_width": null,
       "object_fit": null,
       "object_position": null,
       "order": null,
       "overflow": null,
       "overflow_x": null,
       "overflow_y": null,
       "padding": null,
       "right": null,
       "top": null,
       "visibility": null,
       "width": null
      }
     },
     "24680e325ff84e5995ac38eae2b35b76": {
      "model_module": "@jupyter-widgets/controls",
      "model_module_version": "1.5.0",
      "model_name": "FloatProgressModel",
      "state": {
       "_dom_classes": [],
       "_model_module": "@jupyter-widgets/controls",
       "_model_module_version": "1.5.0",
       "_model_name": "FloatProgressModel",
       "_view_count": null,
       "_view_module": "@jupyter-widgets/controls",
       "_view_module_version": "1.5.0",
       "_view_name": "ProgressView",
       "bar_style": "",
       "description": "",
       "description_tooltip": null,
       "layout": "IPY_MODEL_9d696d1ef77b47709985a9d13aa3f32b",
       "max": 30,
       "min": 0,
       "orientation": "horizontal",
       "style": "IPY_MODEL_2bbe29a6cf064ee89b4d111bc4bf989b",
       "value": 30
      }
     },
     "2bbe29a6cf064ee89b4d111bc4bf989b": {
      "model_module": "@jupyter-widgets/controls",
      "model_module_version": "1.5.0",
      "model_name": "ProgressStyleModel",
      "state": {
       "_model_module": "@jupyter-widgets/controls",
       "_model_module_version": "1.5.0",
       "_model_name": "ProgressStyleModel",
       "_view_count": null,
       "_view_module": "@jupyter-widgets/base",
       "_view_module_version": "1.2.0",
       "_view_name": "StyleView",
       "bar_color": null,
       "description_width": ""
      }
     },
     "4ca8d33156064de6b402fa14190c7eec": {
      "model_module": "@jupyter-widgets/controls",
      "model_module_version": "1.5.0",
      "model_name": "DescriptionStyleModel",
      "state": {
       "_model_module": "@jupyter-widgets/controls",
       "_model_module_version": "1.5.0",
       "_model_name": "DescriptionStyleModel",
       "_view_count": null,
       "_view_module": "@jupyter-widgets/base",
       "_view_module_version": "1.2.0",
       "_view_name": "StyleView",
       "description_width": ""
      }
     },
     "5fd94318e86740b1b4c214ef9a8bf046": {
      "model_module": "@jupyter-widgets/controls",
      "model_module_version": "1.5.0",
      "model_name": "DescriptionStyleModel",
      "state": {
       "_model_module": "@jupyter-widgets/controls",
       "_model_module_version": "1.5.0",
       "_model_name": "DescriptionStyleModel",
       "_view_count": null,
       "_view_module": "@jupyter-widgets/base",
       "_view_module_version": "1.2.0",
       "_view_name": "StyleView",
       "description_width": ""
      }
     },
     "70f37929e53c487faba582fd7a726ed6": {
      "model_module": "@jupyter-widgets/controls",
      "model_module_version": "1.5.0",
      "model_name": "HBoxModel",
      "state": {
       "_dom_classes": [],
       "_model_module": "@jupyter-widgets/controls",
       "_model_module_version": "1.5.0",
       "_model_name": "HBoxModel",
       "_view_count": null,
       "_view_module": "@jupyter-widgets/controls",
       "_view_module_version": "1.5.0",
       "_view_name": "HBoxView",
       "box_style": "",
       "children": [
        "IPY_MODEL_dcfadd3b900747dbaa8d7cfe3063bbba",
        "IPY_MODEL_24680e325ff84e5995ac38eae2b35b76",
        "IPY_MODEL_cc886337dbd74ca9b5d39e89bbcd13c1"
       ],
       "layout": "IPY_MODEL_e6dd64a8c84645018acca9b02de5fcfb"
      }
     },
     "95b67fa717e5444995ccca4ad5cd2d81": {
      "model_module": "@jupyter-widgets/base",
      "model_module_version": "1.2.0",
      "model_name": "LayoutModel",
      "state": {
       "_model_module": "@jupyter-widgets/base",
       "_model_module_version": "1.2.0",
       "_model_name": "LayoutModel",
       "_view_count": null,
       "_view_module": "@jupyter-widgets/base",
       "_view_module_version": "1.2.0",
       "_view_name": "LayoutView",
       "align_content": null,
       "align_items": null,
       "align_self": null,
       "border": null,
       "bottom": null,
       "display": null,
       "flex": null,
       "flex_flow": null,
       "grid_area": null,
       "grid_auto_columns": null,
       "grid_auto_flow": null,
       "grid_auto_rows": null,
       "grid_column": null,
       "grid_gap": null,
       "grid_row": null,
       "grid_template_areas": null,
       "grid_template_columns": null,
       "grid_template_rows": null,
       "height": null,
       "justify_content": null,
       "justify_items": null,
       "left": null,
       "margin": null,
       "max_height": null,
       "max_width": null,
       "min_height": null,
       "min_width": null,
       "object_fit": null,
       "object_position": null,
       "order": null,
       "overflow": null,
       "overflow_x": null,
       "overflow_y": null,
       "padding": null,
       "right": null,
       "top": null,
       "visibility": null,
       "width": null
      }
     },
     "9d696d1ef77b47709985a9d13aa3f32b": {
      "model_module": "@jupyter-widgets/base",
      "model_module_version": "1.2.0",
      "model_name": "LayoutModel",
      "state": {
       "_model_module": "@jupyter-widgets/base",
       "_model_module_version": "1.2.0",
       "_model_name": "LayoutModel",
       "_view_count": null,
       "_view_module": "@jupyter-widgets/base",
       "_view_module_version": "1.2.0",
       "_view_name": "LayoutView",
       "align_content": null,
       "align_items": null,
       "align_self": null,
       "border": null,
       "bottom": null,
       "display": null,
       "flex": null,
       "flex_flow": null,
       "grid_area": null,
       "grid_auto_columns": null,
       "grid_auto_flow": null,
       "grid_auto_rows": null,
       "grid_column": null,
       "grid_gap": null,
       "grid_row": null,
       "grid_template_areas": null,
       "grid_template_columns": null,
       "grid_template_rows": null,
       "height": null,
       "justify_content": null,
       "justify_items": null,
       "left": null,
       "margin": null,
       "max_height": null,
       "max_width": null,
       "min_height": null,
       "min_width": null,
       "object_fit": null,
       "object_position": null,
       "order": null,
       "overflow": null,
       "overflow_x": null,
       "overflow_y": null,
       "padding": null,
       "right": null,
       "top": null,
       "visibility": null,
       "width": null
      }
     },
     "cc886337dbd74ca9b5d39e89bbcd13c1": {
      "model_module": "@jupyter-widgets/controls",
      "model_module_version": "1.5.0",
      "model_name": "HTMLModel",
      "state": {
       "_dom_classes": [],
       "_model_module": "@jupyter-widgets/controls",
       "_model_module_version": "1.5.0",
       "_model_name": "HTMLModel",
       "_view_count": null,
       "_view_module": "@jupyter-widgets/controls",
       "_view_module_version": "1.5.0",
       "_view_name": "HTMLView",
       "description": "",
       "description_tooltip": null,
       "layout": "IPY_MODEL_0e4cceadb12243c2b3a2aaa4039c3cb5",
       "placeholder": "​",
       "style": "IPY_MODEL_4ca8d33156064de6b402fa14190c7eec",
       "value": " 30/30 [00:34&lt;00:00,  2.11s/pipeline]"
      }
     },
     "dcfadd3b900747dbaa8d7cfe3063bbba": {
      "model_module": "@jupyter-widgets/controls",
      "model_module_version": "1.5.0",
      "model_name": "HTMLModel",
      "state": {
       "_dom_classes": [],
       "_model_module": "@jupyter-widgets/controls",
       "_model_module_version": "1.5.0",
       "_model_name": "HTMLModel",
       "_view_count": null,
       "_view_module": "@jupyter-widgets/controls",
       "_view_module_version": "1.5.0",
       "_view_name": "HTMLView",
       "description": "",
       "description_tooltip": null,
       "layout": "IPY_MODEL_95b67fa717e5444995ccca4ad5cd2d81",
       "placeholder": "​",
       "style": "IPY_MODEL_5fd94318e86740b1b4c214ef9a8bf046",
       "value": "Optimization Progress: 100%"
      }
     },
     "e6dd64a8c84645018acca9b02de5fcfb": {
      "model_module": "@jupyter-widgets/base",
      "model_module_version": "1.2.0",
      "model_name": "LayoutModel",
      "state": {
       "_model_module": "@jupyter-widgets/base",
       "_model_module_version": "1.2.0",
       "_model_name": "LayoutModel",
       "_view_count": null,
       "_view_module": "@jupyter-widgets/base",
       "_view_module_version": "1.2.0",
       "_view_name": "LayoutView",
       "align_content": null,
       "align_items": null,
       "align_self": null,
       "border": null,
       "bottom": null,
       "display": null,
       "flex": null,
       "flex_flow": null,
       "grid_area": null,
       "grid_auto_columns": null,
       "grid_auto_flow": null,
       "grid_auto_rows": null,
       "grid_column": null,
       "grid_gap": null,
       "grid_row": null,
       "grid_template_areas": null,
       "grid_template_columns": null,
       "grid_template_rows": null,
       "height": null,
       "justify_content": null,
       "justify_items": null,
       "left": null,
       "margin": null,
       "max_height": null,
       "max_width": null,
       "min_height": null,
       "min_width": null,
       "object_fit": null,
       "object_position": null,
       "order": null,
       "overflow": null,
       "overflow_x": null,
       "overflow_y": null,
       "padding": null,
       "right": null,
       "top": null,
       "visibility": null,
       "width": null
      }
     }
    },
    "version_major": 2,
    "version_minor": 0
   }
  }
 },
 "nbformat": 4,
 "nbformat_minor": 5
}
